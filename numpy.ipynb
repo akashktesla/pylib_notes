{
  "nbformat": 4,
  "nbformat_minor": 0,
  "metadata": {
    "colab": {
      "name": "numpy.ipynb",
      "provenance": [],
      "collapsed_sections": []
    },
    "kernelspec": {
      "name": "python3",
      "display_name": "Python 3"
    }
  },
  "cells": [
    {
      "cell_type": "code",
      "metadata": {
        "id": "41FAEnBvhq1O"
      },
      "source": [
        "import numpy as np\r\n"
      ],
      "execution_count": null,
      "outputs": []
    },
    {
      "cell_type": "markdown",
      "metadata": {
        "id": "pKLJG25rjc4n"
      },
      "source": [
        "np.array([array] , dtype='data type')"
      ]
    },
    {
      "cell_type": "code",
      "metadata": {
        "id": "120lyaPZh0Pp",
        "colab": {
          "base_uri": "https://localhost:8080/"
        },
        "outputId": "b3892606-c452-4576-ede0-55b86e150a3a"
      },
      "source": [
        "a = np.array([[[2,5,6],[1,1,1]],[[2,5,6],[1,1,1]]],dtype='int8')\r\n",
        "\r\n",
        "a.dtype\r\n",
        "print(a)"
      ],
      "execution_count": null,
      "outputs": [
        {
          "output_type": "stream",
          "text": [
            "[[[2 5 6]\n",
            "  [1 1 1]]\n",
            "\n",
            " [[2 5 6]\n",
            "  [1 1 1]]]\n"
          ],
          "name": "stdout"
        }
      ]
    },
    {
      "cell_type": "markdown",
      "metadata": {
        "id": "d3nqfF_WiE5j"
      },
      "source": [
        ".ndim - dimension       \r\n",
        ".shape - shape of the array  \r\n",
        ".dtype - to show the data type    \r\n",
        ".itemsize - size of the elements in bytes   \r\n",
        ".nbytes - total size of the array"
      ]
    },
    {
      "cell_type": "code",
      "metadata": {
        "colab": {
          "base_uri": "https://localhost:8080/"
        },
        "id": "tOR-Y5U0ilYW",
        "outputId": "25dd7bc1-5a02-4b58-95e3-39504d8caa37"
      },
      "source": [
        "a.itemsize\r\n"
      ],
      "execution_count": null,
      "outputs": [
        {
          "output_type": "execute_result",
          "data": {
            "text/plain": [
              "2"
            ]
          },
          "metadata": {
            "tags": []
          },
          "execution_count": 8
        }
      ]
    },
    {
      "cell_type": "markdown",
      "metadata": {
        "id": "CSIw8F1zmwGO"
      },
      "source": [
        "a[rows,columns] - to index the array"
      ]
    },
    {
      "cell_type": "code",
      "metadata": {
        "id": "G4o2Qj38nDgF",
        "colab": {
          "base_uri": "https://localhost:8080/"
        },
        "outputId": "93a5c8b8-3c9b-449a-b5c0-bb55e312236a"
      },
      "source": [
        "a[0,1,2]"
      ],
      "execution_count": null,
      "outputs": [
        {
          "output_type": "execute_result",
          "data": {
            "text/plain": [
              "1"
            ]
          },
          "metadata": {
            "tags": []
          },
          "execution_count": 10
        }
      ]
    },
    {
      "cell_type": "markdown",
      "metadata": {
        "id": "3rk8EW5boLtG"
      },
      "source": [
        "np.full_like(a,number) - array full of specified number and the array takes the shape of a(array)   \r\n",
        "np.random.random_sample(a.shape)\r\n",
        "\r\n",
        "\r\n",
        "\r\n"
      ]
    },
    {
      "cell_type": "code",
      "metadata": {
        "id": "4Uu9MTPauzCg",
        "colab": {
          "base_uri": "https://localhost:8080/"
        },
        "outputId": "3d89cd89-594f-43dc-f379-c9fd8711129e"
      },
      "source": [
        "np.full(a.shape,2)"
      ],
      "execution_count": null,
      "outputs": [
        {
          "output_type": "execute_result",
          "data": {
            "text/plain": [
              "array([[[2, 2, 2],\n",
              "        [2, 2, 2]],\n",
              "\n",
              "       [[2, 2, 2],\n",
              "        [2, 2, 2]]])"
            ]
          },
          "metadata": {
            "tags": []
          },
          "execution_count": 14
        }
      ]
    },
    {
      "cell_type": "code",
      "metadata": {
        "id": "uHUQ8bvvu8De",
        "colab": {
          "base_uri": "https://localhost:8080/"
        },
        "outputId": "3fb276f7-90cd-4f7d-87c4-c33a40f6b4f5"
      },
      "source": [
        "np.full_like(a,21)"
      ],
      "execution_count": null,
      "outputs": [
        {
          "output_type": "execute_result",
          "data": {
            "text/plain": [
              "array([[[21, 21, 21],\n",
              "        [21, 21, 21]],\n",
              "\n",
              "       [[21, 21, 21],\n",
              "        [21, 21, 21]]], dtype=int16)"
            ]
          },
          "metadata": {
            "tags": []
          },
          "execution_count": 16
        }
      ]
    },
    {
      "cell_type": "code",
      "metadata": {
        "id": "QFwn3pSWu7wn",
        "colab": {
          "base_uri": "https://localhost:8080/"
        },
        "outputId": "2c2d4720-2246-497a-eee6-55841a730eaa"
      },
      "source": [
        "a = np.array([[1,2],[3,4]]) \r\n",
        "b = np.array([[11,12],[13,14]]) \r\n",
        "print(lti)"
      ],
      "execution_count": null,
      "outputs": [
        {
          "output_type": "stream",
          "text": [
            "[[37 40]\n",
            " [85 92]]\n"
          ],
          "name": "stdout"
        }
      ]
    },
    {
      "cell_type": "code",
      "metadata": {
        "id": "bEmrxG8Ztzrr"
      },
      "source": [
        "np.random.random_sample(a.shape)"
      ],
      "execution_count": null,
      "outputs": []
    },
    {
      "cell_type": "code",
      "metadata": {
        "id": "UGJIbl4iuIBt"
      },
      "source": [
        "np.random.randint(a)"
      ],
      "execution_count": null,
      "outputs": []
    },
    {
      "cell_type": "code",
      "metadata": {
        "colab": {
          "base_uri": "https://localhost:8080/"
        },
        "id": "Qm6_J9HBXozt",
        "outputId": "2260954d-f46d-4dc4-e0a4-f0d0dda911cf"
      },
      "source": [
        "b=np.linspace(0,30,100)"
      ],
      "execution_count": null,
      "outputs": [
        {
          "output_type": "stream",
          "text": [
            "[ 0.          0.3030303   0.60606061  0.90909091  1.21212121  1.51515152\n",
            "  1.81818182  2.12121212  2.42424242  2.72727273  3.03030303  3.33333333\n",
            "  3.63636364  3.93939394  4.24242424  4.54545455  4.84848485  5.15151515\n",
            "  5.45454545  5.75757576  6.06060606  6.36363636  6.66666667  6.96969697\n",
            "  7.27272727  7.57575758  7.87878788  8.18181818  8.48484848  8.78787879\n",
            "  9.09090909  9.39393939  9.6969697  10.         10.3030303  10.60606061\n",
            " 10.90909091 11.21212121 11.51515152 11.81818182 12.12121212 12.42424242\n",
            " 12.72727273 13.03030303 13.33333333 13.63636364 13.93939394 14.24242424\n",
            " 14.54545455 14.84848485 15.15151515 15.45454545 15.75757576 16.06060606\n",
            " 16.36363636 16.66666667 16.96969697 17.27272727 17.57575758 17.87878788\n",
            " 18.18181818 18.48484848 18.78787879 19.09090909 19.39393939 19.6969697\n",
            " 20.         20.3030303  20.60606061 20.90909091 21.21212121 21.51515152\n",
            " 21.81818182 22.12121212 22.42424242 22.72727273 23.03030303 23.33333333\n",
            " 23.63636364 23.93939394 24.24242424 24.54545455 24.84848485 25.15151515\n",
            " 25.45454545 25.75757576 26.06060606 26.36363636 26.66666667 26.96969697\n",
            " 27.27272727 27.57575758 27.87878788 28.18181818 28.48484848 28.78787879\n",
            " 29.09090909 29.39393939 29.6969697  30.        ]\n"
          ],
          "name": "stdout"
        }
      ]
    },
    {
      "cell_type": "markdown",
      "metadata": {
        "id": "IHOVPEH1wrIS"
      },
      "source": [
        "np.identity(shape)"
      ]
    },
    {
      "cell_type": "code",
      "metadata": {
        "id": "7aLT4PN9xO0P",
        "colab": {
          "base_uri": "https://localhost:8080/"
        },
        "outputId": "e820fdc3-50c9-41f8-be72-f225fc41be7d"
      },
      "source": [
        ""
      ],
      "execution_count": null,
      "outputs": [
        {
          "output_type": "execute_result",
          "data": {
            "text/plain": [
              "array([[1., 1., 1.],\n",
              "       [1., 1., 1.],\n",
              "       [1., 1., 1.]])"
            ]
          },
          "metadata": {
            "tags": []
          },
          "execution_count": 32
        }
      ]
    },
    {
      "cell_type": "code",
      "metadata": {
        "id": "E8PJd8MTTxX4",
        "colab": {
          "base_uri": "https://localhost:8080/"
        },
        "outputId": "6b513ef9-4fa0-449e-a246-b3af3260e6ab"
      },
      "source": [
        "d=np.cos(a)\r\n",
        "print(d)"
      ],
      "execution_count": null,
      "outputs": [
        {
          "output_type": "stream",
          "text": [
            "[[ 0.54030231 -0.41614684]\n",
            " [-0.9899925  -0.65364362]]\n"
          ],
          "name": "stdout"
        }
      ]
    },
    {
      "cell_type": "markdown",
      "metadata": {
        "id": "cmbAHkHNWnqD"
      },
      "source": [
        "b=a.copy()   to copy a to b   \r\n",
        "np.sin(arr) - takes sin to every element in the array"
      ]
    },
    {
      "cell_type": "markdown",
      "metadata": {
        "id": "79moF17tXlZ_"
      },
      "source": [
        "linear algebra   \r\n",
        "np.matmul(a,b) matrix multiplication   \r\n",
        "np.linalg.det(c) - find determinant   \r\n"
      ]
    },
    {
      "cell_type": "markdown",
      "metadata": {
        "id": "mrOlMrn5YqF8"
      },
      "source": [
        "statistics   \r\n",
        "np.min(stats)   \r\n",
        "np.max(stats, axis=1)   \r\n",
        "np.sum(stats, axis=0)   \r\n",
        "after = before.reshape((2,3))   \r\n"
      ]
    },
    {
      "cell_type": "code",
      "metadata": {
        "id": "5WhAPlfFY9Cu",
        "colab": {
          "base_uri": "https://localhost:8080/"
        },
        "outputId": "69f8309e-8e60-47ab-c021-a75328d4a5e8"
      },
      "source": [
        "v1 = np.array([1,2,3,4])\r\n",
        "v2 = np.array([5,6,7,8])\r\n",
        "\r\n",
        "np.vstack([v1,v2,v1,v2])"
      ],
      "execution_count": null,
      "outputs": [
        {
          "output_type": "execute_result",
          "data": {
            "text/plain": [
              "array([[1, 2, 3, 4],\n",
              "       [5, 6, 7, 8],\n",
              "       [1, 2, 3, 4],\n",
              "       [5, 6, 7, 8]])"
            ]
          },
          "metadata": {
            "tags": []
          },
          "execution_count": 37
        }
      ]
    },
    {
      "cell_type": "code",
      "metadata": {
        "id": "1iqFcpoFZBhu",
        "colab": {
          "base_uri": "https://localhost:8080/"
        },
        "outputId": "48440e95-9444-4e8a-d02d-8d8cffb7ff14"
      },
      "source": [
        "# Horizontal  stack\r\n",
        "h1 = np.ones((2,4))\r\n",
        "h2 = np.zeros((2,2))\r\n",
        "\r\n",
        "np.hstack((h1,h2))\r\n"
      ],
      "execution_count": null,
      "outputs": [
        {
          "output_type": "execute_result",
          "data": {
            "text/plain": [
              "array([[1., 1., 1., 1., 0., 0.],\n",
              "       [1., 1., 1., 1., 0., 0.]])"
            ]
          },
          "metadata": {
            "tags": []
          },
          "execution_count": 38
        }
      ]
    },
    {
      "cell_type": "markdown",
      "metadata": {
        "id": "gcNn_cJNZ7Jd"
      },
      "source": [
        "https://github.com/KeithGalli/NumPy/blob/master/NumPy%20Tutorial.ipynb   \r\n",
        "notes reference"
      ]
    }
  ]
}