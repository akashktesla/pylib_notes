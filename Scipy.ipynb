{
 "cells": [
  {
   "cell_type": "markdown",
   "metadata": {},
   "source": [
    "## Scipy"
   ]
  },
  {
   "cell_type": "markdown",
   "metadata": {},
   "source": [
    "Scipy is opensource python library which is used to solve scientific and mathematical problems\n",
    "\n",
    "Scipy is build on numpy like seaborn built on matplotlib\n",
    "\n",
    "it allows users to manupulate and visualize data with wide range of functions"
   ]
  },
  {
   "cell_type": "markdown",
   "metadata": {},
   "source": [
    "## Numpy vs Scipy"
   ]
  },
  {
   "cell_type": "markdown",
   "metadata": {},
   "source": [
    "both the libraries are used for mathematical and numerical analysis\n",
    "\n",
    "numpy contains array data and it's basic operations, but scipy contains all the numerical code.\n",
    "\n",
    "scipy contains full featured or upgraded versions of numpy functions to solve fourier transform, linear algebra etc. "
   ]
  },
  {
   "cell_type": "markdown",
   "metadata": {},
   "source": [
    "# SUB PACKAGES IN SCIPY"
   ]
  },
  {
   "cell_type": "markdown",
   "metadata": {},
   "source": [
    "help()"
   ]
  },
  {
   "cell_type": "markdown",
   "metadata": {},
   "source": [
    "# Polynomials"
   ]
  },
  {
   "cell_type": "code",
   "execution_count": 14,
   "metadata": {
    "collapsed": true
   },
   "outputs": [
    {
     "name": "stdout",
     "output_type": "stream",
     "text": [
      "   2\n",
      "4 x + 2 x - 1\n",
      "    4      3     2\n",
      "16 x + 16 x - 4 x - 4 x + 1\n",
      "       3     2\n",
      "1.333 x + 1 x - 1 x + 6\n",
      " \n",
      "8 x + 2\n"
     ]
    }
   ],
   "source": [
    "# to create a polynomial we need to import poly1d for 1 d polynomial\n",
    "\n",
    "from scipy import poly1d\n",
    "\n",
    "# we have to pass a list to poly1d function\n",
    "p = poly1d([4,2,-1])\n",
    "print(p)\n",
    "\n",
    "#you can multiply the polynomial\n",
    "print(p*p)\n",
    "\n",
    "# to find root we have to use\n",
    "p.r\n",
    "\n",
    "# You can integrate your polynomial using integ() function\n",
    "print(p.integ(k=6))    #where k is indefinite integration constant we use + c in our normal mathematics\n",
    "\n",
    "# For differentiating a polynomial\n",
    "print(p.deriv())\n",
    "\n",
    "#it's the basic of polynomial part you can refer the documentry to get more information about this"
   ]
  },
  {
   "cell_type": "markdown",
   "metadata": {},
   "source": [
    "## Special Function"
   ]
  },
  {
   "cell_type": "code",
   "execution_count": 24,
   "metadata": {},
   "outputs": [
    {
     "data": {
      "text/plain": [
       "10.0"
      ]
     },
     "execution_count": 24,
     "metadata": {},
     "output_type": "execute_result"
    }
   ],
   "source": [
    "# first we have to import special\n",
    "import scipy.special as sp\n",
    "\n",
    "import numpy as np\n",
    "\n",
    "a = np.arange(1,11)\n",
    "\n",
    "# You can find cuberoot of all the array elements using \n",
    "sp.cbrt(a)\n",
    "\n",
    "# To find exponent of 10\n",
    "sp.exp10(a)\n",
    "\n",
    "# To find exponent of 2\n",
    "sp.exp2(a)\n",
    "\n",
    "# To convert degree to radian\n",
    "d,m,s = 25, 15, 22 \n",
    "sp.radian(d,m,s)   #parameters are degree miniutes and seconds\n",
    "\n",
    "# and there are many other useful functions like to get the values of cos sin tan etc. \n",
    "\n",
    "# and for permutation and combination\n",
    "sp.perm(5,3)\n",
    "sp.comb(5,3)"
   ]
  },
  {
   "cell_type": "markdown",
   "metadata": {},
   "source": [
    "## Integration"
   ]
  },
  {
   "cell_type": "code",
   "execution_count": 1,
   "metadata": {},
   "outputs": [
    {
     "data": {
      "text/plain": [
       "(3.7500000000000004, 4.1633363423443377e-14)"
      ]
     },
     "execution_count": 1,
     "metadata": {},
     "output_type": "execute_result"
    }
   ],
   "source": [
    "# You have to import this library\n",
    "import scipy.integrate as si\n",
    "\n",
    "# we have to know about lambda. lambda is used to create and assign equations using different variables\n",
    "\n",
    "# let's take an equation\n",
    "f = lambda x : x**3\n",
    "\n",
    "# we're using quad, which is simple integration\n",
    "i = si.quad(f, 1, 2)   # here f is the function, 1 is lower limit and 2 is upper limit\n",
    "i"
   ]
  },
  {
   "cell_type": "markdown",
   "metadata": {},
   "source": [
    "# Linear Algebra"
   ]
  },
  {
   "cell_type": "code",
   "execution_count": 40,
   "metadata": {},
   "outputs": [
    {
     "name": "stdout",
     "output_type": "stream",
     "text": [
      "[[1 3 5]\n",
      " [2 5 1]\n",
      " [2 3 8]]\n"
     ]
    },
    {
     "data": {
      "text/plain": [
       "array([[-1.48,  0.36,  0.88],\n",
       "       [ 0.56,  0.08, -0.36],\n",
       "       [ 0.16, -0.12,  0.04]])"
      ]
     },
     "execution_count": 40,
     "metadata": {},
     "output_type": "execute_result"
    }
   ],
   "source": [
    "# you have to import the module\n",
    "from scipy import linalg as sl\n",
    "\n",
    "a= np.array([[1,2],[3,4]])\n",
    "\n",
    "# To find determinent of an matrix\n",
    "sl.det(a)\n",
    "\n",
    "# Compute pivoted LU decomposition of a matrix.\n",
    "# A = P L U\n",
    "A = np.array([[1,2,3],[4,5,6],[7,8,8]])\n",
    "P, L, U = sl.lu(A)\n",
    "\n",
    "# You can find eigen values and eigen vectors of a matrix\n",
    "EV, EW = sl.eig(A)\n",
    "\n",
    "# You can find inverse of a matrix\n",
    "A = np.array([[1,3,5],[2,5,1],[2,3,8]])\n",
    "print(A)\n",
    "sl.inv(A)"
   ]
  },
  {
   "cell_type": "markdown",
   "metadata": {},
   "source": [
    "# Fourier Transform"
   ]
  },
  {
   "cell_type": "code",
   "execution_count": 43,
   "metadata": {},
   "outputs": [
    {
     "data": {
      "text/plain": [
       "array([15.16666667-0.j        , -1.        -7.79422863j,\n",
       "       -3.83333333-2.30940108j, -4.5       -0.j        ,\n",
       "       -3.83333333+2.30940108j, -1.        +7.79422863j])"
      ]
     },
     "execution_count": 43,
     "metadata": {},
     "output_type": "execute_result"
    }
   ],
   "source": [
    "import scipy.fftpack as sf\n",
    "\n",
    "# There are two major functions in this module\n",
    "# Fast fourier transformation and inverse fast fourier transformation represented as fft and ifft\n",
    "\n",
    "a = np.array([1,5,6,14,25,40])\n",
    "y = sf.fft(a)\n",
    "\n",
    "z = sf.ifft(a)\n",
    "z"
   ]
  },
  {
   "cell_type": "markdown",
   "metadata": {},
   "source": [
    "# Constants"
   ]
  },
  {
   "cell_type": "code",
   "execution_count": 45,
   "metadata": {},
   "outputs": [
    {
     "data": {
      "text/plain": [
       "1.380649e-23"
      ]
     },
     "execution_count": 45,
     "metadata": {},
     "output_type": "execute_result"
    }
   ],
   "source": [
    "import scipy.constants as sc\n",
    "\n",
    "# Used to find all constants\n",
    "sc.find()\n",
    "\n",
    "# Used to get values of the constant\n",
    "sc.value('Boltzmann constant')"
   ]
  }
 ],
 "metadata": {
  "kernelspec": {
   "display_name": "Python 3",
   "language": "python",
   "name": "python3"
  },
  "language_info": {
   "codemirror_mode": {
    "name": "ipython",
    "version": 3
   },
   "file_extension": ".py",
   "mimetype": "text/x-python",
   "name": "python",
   "nbconvert_exporter": "python",
   "pygments_lexer": "ipython3",
   "version": "3.8.5"
  }
 },
 "nbformat": 4,
 "nbformat_minor": 4
}
