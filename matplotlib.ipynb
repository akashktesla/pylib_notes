{
  "nbformat": 4,
  "nbformat_minor": 0,
  "metadata": {
    "colab": {
      "name": "matplotlib.ipynb",
      "provenance": [],
      "collapsed_sections": [],
      "toc_visible": true
    },
    "kernelspec": {
      "name": "python3",
      "display_name": "Python 3"
    }
  },
  "cells": [
    {
      "cell_type": "markdown",
      "metadata": {
        "id": "d18tM9wc_gKz"
      },
      "source": [
        "## matplotlib mini documentation"
      ]
    },
    {
      "cell_type": "code",
      "metadata": {
        "id": "Y-txPi8BRbrL"
      },
      "source": [
        "import matplotlib.pyplot as plt\r\n",
        "import numpy as np\r\n",
        "import pandas as pd \r\n",
        "from mpl_toolkits import mplot3d"
      ],
      "execution_count": null,
      "outputs": []
    },
    {
      "cell_type": "markdown",
      "metadata": {
        "id": "hwqz5PgO7xLx"
      },
      "source": [
        "plt.plot(x,y,label='adf',color='color')      \r\n",
        "plt.show()"
      ]
    },
    {
      "cell_type": "code",
      "metadata": {
        "id": "dxH16S8pRnmm"
      },
      "source": [
        "z=np.linspace(0,30,100)\r\n",
        "x=np.sin(z)\r\n",
        "y=np.cos(z)\r\n",
        "plt.plot(x,z)\r\n",
        "plt.show()"
      ],
      "execution_count": null,
      "outputs": []
    },
    {
      "cell_type": "markdown",
      "metadata": {
        "id": "DtsUnRY68WSb"
      },
      "source": [
        "plt.title('title',fontdict={}) - too add the titile   \r\n",
        "plt.xlabel('xlabel') - to add x label   \r\n",
        "plt.ylabel('ylabel') - to add y label   \r\n",
        "plt.xticks([array]) - to add x ticks   \r\n",
        "plt.yticks([array]) - to add y ticks   \r\n",
        "plt.figure(figsize=(,),dpi=)    \r\n"
      ]
    },
    {
      "cell_type": "code",
      "metadata": {
        "id": "OFnH_5xstA3l"
      },
      "source": [
        ""
      ],
      "execution_count": null,
      "outputs": []
    },
    {
      "cell_type": "markdown",
      "metadata": {
        "id": "fa_SLtIpuKfG"
      },
      "source": [
        "barchart\r\n",
        "\r\n",
        "labels = [ 'as ','assa' ]   \r\n",
        "values = [12 ,8 ]   \r\n",
        "\r\n",
        "bars = plt.bar(labels, values)   \r\n",
        "patterns = ['/', 'O']    \r\n",
        "for bar in bars:   \r\n",
        "  bar.set_hatch(patterns.pop(0))    \r\n",
        "\r\n",
        "plt.show()\r\n"
      ]
    },
    {
      "cell_type": "code",
      "metadata": {
        "id": "_ITIzqX92qiP"
      },
      "source": [
        ""
      ],
      "execution_count": null,
      "outputs": []
    },
    {
      "cell_type": "markdown",
      "metadata": {
        "id": "n10plzt3h6Ju"
      },
      "source": [
        "3d plot\r\n",
        "variable=plt.axes(projection='3d')   \r\n",
        "---define x,y,z---   \r\n",
        "variable.plot3D(x,y,z)   \r\n",
        "plt.show()   \r\n",
        "\r\n",
        "scatter plot   \r\n",
        "plt.scatter(x,y)   "
      ]
    },
    {
      "cell_type": "code",
      "metadata": {
        "id": "QjhaM-Vch4t-"
      },
      "source": [
        ""
      ],
      "execution_count": null,
      "outputs": []
    },
    {
      "cell_type": "markdown",
      "metadata": {
        "id": "Gb-WiXcotXjD"
      },
      "source": [
        "save your graph   \r\n",
        "\r\n",
        "plt.savefig('name.png', dpi=)"
      ]
    },
    {
      "cell_type": "markdown",
      "metadata": {
        "id": "2NiK-6HRJz8L"
      },
      "source": [
        "read and plot csv files using pandas"
      ]
    },
    {
      "cell_type": "code",
      "metadata": {
        "id": "wbP9Uf5x5B_R"
      },
      "source": [
        ""
      ],
      "execution_count": null,
      "outputs": []
    },
    {
      "cell_type": "markdown",
      "metadata": {
        "id": "sAXb78BcIPoD"
      },
      "source": [
        "plt.imread(' ')   \r\n",
        "plt.imshow(' ')"
      ]
    },
    {
      "cell_type": "code",
      "metadata": {
        "id": "bJf9_QnmIhU7"
      },
      "source": [
        ""
      ],
      "execution_count": null,
      "outputs": []
    }
  ]
}